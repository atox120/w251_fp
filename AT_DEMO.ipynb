{
 "cells": [
  {
   "cell_type": "code",
   "execution_count": 3,
   "id": "38d61e09-6c2d-43c0-b518-b4bc8db8465a",
   "metadata": {},
   "outputs": [
    {
     "name": "stdout",
     "output_type": "stream",
     "text": [
      "/home/Video-Swin-Transformer\n"
     ]
    },
    {
     "data": {
      "text/plain": [
       "[('welding', 30.97074),\n",
       " ('dancing gangnam style', 30.763535),\n",
       " ('push up', 30.034014),\n",
       " ('massaging legs', 25.753311),\n",
       " ('swing dancing', 25.16811)]"
      ]
     },
     "execution_count": 3,
     "metadata": {},
     "output_type": "execute_result"
    }
   ],
   "source": [
    "# Test Install\n",
    "# From https://github.com/SwinTransformer/Video-Swin-Transformer/blob/master/docs/install.md#verification\n",
    "\n",
    "## IMPORTANT ##\n",
    "# run from inside the Video-Swin-Transformer folder otherwise file  paths won't work.\n",
    "# !pwd command below should output: /home/Video-Swin-Transformer\n",
    "! pwd\n",
    "\n",
    "import torch\n",
    "from mmaction.apis import init_recognizer, inference_recognizer\n",
    "\n",
    "config_file = 'configs/recognition/tsn/tsn_r50_video_inference_1x1x3_100e_kinetics400_rgb.py'\n",
    "device = 'cuda:0' # or 'cpu'\n",
    "device = torch.device(device)\n",
    "\n",
    "model = init_recognizer(config_file, device=device)\n",
    "# inference the demo video\n",
    "inference_recognizer(model, 'demo/demo.mp4', 'demo/label_map_k400.txt')"
   ]
  },
  {
   "cell_type": "code",
   "execution_count": null,
   "id": "c9bab117-7cd8-4892-8136-da8ceaa05247",
   "metadata": {},
   "outputs": [],
   "source": []
  }
 ],
 "metadata": {
  "kernelspec": {
   "display_name": "Python 3 (ipykernel)",
   "language": "python",
   "name": "python3"
  },
  "language_info": {
   "codemirror_mode": {
    "name": "ipython",
    "version": 3
   },
   "file_extension": ".py",
   "mimetype": "text/x-python",
   "name": "python",
   "nbconvert_exporter": "python",
   "pygments_lexer": "ipython3",
   "version": "3.8.12"
  }
 },
 "nbformat": 4,
 "nbformat_minor": 5
}
