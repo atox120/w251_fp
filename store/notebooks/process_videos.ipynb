{
 "cells": [
  {
   "cell_type": "markdown",
   "id": "a896464f-251a-489e-867f-47b35d8a7af4",
   "metadata": {},
   "source": [
    "# Process raw videos into SWIN consumable"
   ]
  },
  {
   "cell_type": "code",
   "execution_count": 1,
   "id": "5bc68b77-8534-4d03-ac30-a8b9ddcf79f9",
   "metadata": {},
   "outputs": [],
   "source": [
    "import os\n",
    "import sys\n",
    "import string\n",
    "import random\n",
    "import shutil"
   ]
  },
  {
   "cell_type": "code",
   "execution_count": 2,
   "id": "19aa5c81-5ed8-4da2-b0a1-b1dea705cd4b",
   "metadata": {},
   "outputs": [],
   "source": [
    "source_folder = \"../raw_videos\"\n",
    "destination_folder = \"../processed_videos\""
   ]
  },
  {
   "cell_type": "code",
   "execution_count": 3,
   "id": "d7193891-9491-4fcc-ad39-c9420cacf964",
   "metadata": {},
   "outputs": [],
   "source": [
    "validation_prob = 0.2"
   ]
  },
  {
   "cell_type": "code",
   "execution_count": 4,
   "id": "8fd51759-7ffd-4ba8-9acd-ad323ce137c5",
   "metadata": {},
   "outputs": [],
   "source": [
    "# Remove existing folder\n",
    "shutil.rmtree(destination_folder)"
   ]
  },
  {
   "cell_type": "code",
   "execution_count": 5,
   "id": "c8198550-4082-4d60-834f-f30d1b0b2e5f",
   "metadata": {},
   "outputs": [],
   "source": [
    "# Empty the existing folder\n",
    "os.makedirs(destination_folder, exist_ok=True)\n",
    "for each_folder in ['val', 'train', 'test']:\n",
    "    os.makedirs(os.path.join(destination_folder, each_folder), exist_ok=True)"
   ]
  },
  {
   "cell_type": "code",
   "execution_count": 6,
   "id": "674e59d9-f439-4bcc-98a6-899b6ffb6915",
   "metadata": {},
   "outputs": [],
   "source": [
    "# List of all folders \n",
    "raw_folders = os.listdir(source_folder)"
   ]
  },
  {
   "cell_type": "code",
   "execution_count": 7,
   "id": "9a103e84-38e0-4bff-a783-4c56af447858",
   "metadata": {},
   "outputs": [],
   "source": [
    "# Get symbol\n",
    "def get_symbol(folder_name):\n",
    "    folder_name = folder_name.lower()\n",
    "    if 'done' in folder_name:\n",
    "        return 0\n",
    "    elif 'water' in folder_name:\n",
    "        return 1\n",
    "    elif 'poop' in folder_name:\n",
    "        return 2\n",
    "    elif 'dad' in folder_name:\n",
    "        return 3\n",
    "    elif 'mom' in folder_name:\n",
    "        return 4\n",
    "    else:\n",
    "        raise ValueError('Symbol could not be found for folder %s' % folder_name)"
   ]
  },
  {
   "cell_type": "code",
   "execution_count": 8,
   "id": "0d215627-3a1f-43d3-9052-b6d71558999f",
   "metadata": {},
   "outputs": [],
   "source": [
    "# \n",
    "train_list = []\n",
    "val_list = []\n",
    "test_list = []\n",
    "for each_folder in raw_folders:\n",
    "    # One source for data\n",
    "    one_source = os.path.join(source_folder, each_folder)\n",
    "    \n",
    "    # Types of videos \n",
    "    type_folders = os.listdir(one_source)\n",
    "    \n",
    "    # For each type of data\n",
    "    for one_type in type_folders:\n",
    "        symbol = get_symbol(one_type)\n",
    "        \n",
    "        # Get all the files within that folder for this type\n",
    "        files_within_folder = os.listdir(os.path.join(one_source, one_type))\n",
    "\n",
    "        # For each file within the folder\n",
    "        for one_file in files_within_folder:\n",
    "            \n",
    "                # This is the filename within the folder\n",
    "                source_filename = os.path.join(one_source, one_type, one_file)\n",
    "\n",
    "                # Random filename\n",
    "                ran_file = ''.join(random.choice(string.ascii_lowercase) for _ in range(20)) + '.mp4'\n",
    "\n",
    "                if 'alex' not in each_folder:\n",
    "                    # 10% of the data goes to validation\n",
    "                    if random.random() < validation_prob:\n",
    "                        dest_folder = os.path.join(destination_folder, \"val\")\n",
    "                        val_list.append(ran_file + ' ' + str(symbol))\n",
    "                    else:\n",
    "                        # Remaining 90% goes to train\n",
    "                        dest_folder = os.path.join(destination_folder, \"train\")\n",
    "                        train_list.append(ran_file + ' ' + str(symbol))\n",
    "                else:\n",
    "                    # Make test set completely unique\n",
    "                    dest_folder = os.path.join(destination_folder, \"test\")\n",
    "                    test_list.append(ran_file + ' ' + str(symbol))\n",
    "                \n",
    "                # \n",
    "                destination_filename = os.path.join(dest_folder, ran_file)\n",
    "                shutil.copyfile(source_filename, destination_filename)\n",
    "\n",
    "with open(os.path.join(destination_folder, 'bsl_train_video.txt'), 'w') as outfi:\n",
    "    for x in train_list:\n",
    "        outfi.write(x + '\\n')\n",
    "\n",
    "with open(os.path.join(destination_folder, 'bsl_val_video.txt'), 'w') as outfi:\n",
    "    for x in val_list:\n",
    "        outfi.write(x + '\\n')\n",
    "\n",
    "with open(os.path.join(destination_folder, 'bsl_test_video.txt'), 'w') as outfi:\n",
    "    for x in test_list:\n",
    "        outfi.write(x + '\\n')"
   ]
  }
 ],
 "metadata": {
  "kernelspec": {
   "display_name": "Python 3 (ipykernel)",
   "language": "python",
   "name": "python3"
  },
  "language_info": {
   "codemirror_mode": {
    "name": "ipython",
    "version": 3
   },
   "file_extension": ".py",
   "mimetype": "text/x-python",
   "name": "python",
   "nbconvert_exporter": "python",
   "pygments_lexer": "ipython3",
   "version": "3.8.12"
  }
 },
 "nbformat": 4,
 "nbformat_minor": 5
}
