{
 "cells": [
  {
   "cell_type": "code",
   "execution_count": 2,
   "id": "60db6db5-1006-4848-bc6d-d1a75992d04c",
   "metadata": {},
   "outputs": [],
   "source": [
    "import os\n",
    "import sys\n",
    "import time\n",
    "import torch\n",
    "import numpy as np\n",
    "sys.path.append(os.path.abspath(\"\"))\n",
    "sys.path.append(os.path.abspath(\"../Video-Swin-Transformer\"))\n",
    "os.chdir(\"../Video-Swin-Transformer\")\n",
    "from model_inference import get_model, single_gpu_predictor"
   ]
  },
  {
   "cell_type": "code",
   "execution_count": 13,
   "id": "8883fb8d-4601-42df-8383-f4d34b1b2745",
   "metadata": {},
   "outputs": [],
   "source": [
    "# Setup the cofiguration and data file\n",
    "config_file = '../configs/bsl_config.py'\n",
    "check_point_file = './work_dirs/k400_swin_tiny_patch244_window877.py/best_top1_acc_epoch_10.pth'"
   ]
  },
  {
   "cell_type": "code",
   "execution_count": 17,
   "id": "bbefb3ff-9f33-4f03-97f7-92c15f4f8f5e",
   "metadata": {},
   "outputs": [
    {
     "name": "stdout",
     "output_type": "stream",
     "text": [
      "../Video-Swin-Transformer/configs/_base_/models/swin/swin_tiny.py\n",
      "../Video-Swin-Transformer/configs/_base_/default_runtime.py\n",
      "load checkpoint from local path: ./work_dirs/k400_swin_tiny_patch244_window877.py/best_top1_acc_epoch_10.pth\n"
     ]
    }
   ],
   "source": [
    "# Get the model and load it with pre-trained weights\n",
    "model = get_model(config_file, check_point_file, distributed=False)"
   ]
  },
  {
   "cell_type": "code",
   "execution_count": 18,
   "id": "574d1c64-a20d-4fc1-a107-c6c56933810f",
   "metadata": {},
   "outputs": [],
   "source": [
    "data_loader = [{'label': 0, 'imgs': torch.from_numpy(np.random.randn(1, 10, 3, 32, 224, 224)).to(torch.float32)}]"
   ]
  },
  {
   "cell_type": "code",
   "execution_count": 19,
   "id": "f032a8ef-04bb-4058-b2c4-d1acfa7436ad",
   "metadata": {},
   "outputs": [
    {
     "name": "stdout",
     "output_type": "stream",
     "text": [
      "1.2918549929745495\n"
     ]
    }
   ],
   "source": [
    "# These are the actual outputs\n",
    "start = time.perf_counter()\n",
    "outputs = single_gpu_predictor(model, data_loader)\n",
    "print(time.perf_counter() - start)"
   ]
  }
 ],
 "metadata": {
  "kernelspec": {
   "display_name": "Python 3 (ipykernel)",
   "language": "python",
   "name": "python3"
  },
  "language_info": {
   "codemirror_mode": {
    "name": "ipython",
    "version": 3
   },
   "file_extension": ".py",
   "mimetype": "text/x-python",
   "name": "python",
   "nbconvert_exporter": "python",
   "pygments_lexer": "ipython3",
   "version": "3.8.12"
  }
 },
 "nbformat": 4,
 "nbformat_minor": 5
}
